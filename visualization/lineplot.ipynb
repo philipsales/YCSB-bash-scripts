{
 "cells": [
  {
   "cell_type": "code",
   "execution_count": 826,
   "metadata": {},
   "outputs": [],
   "source": [
    "import numpy as np\n",
    "import pandas as pd\n",
    "import logging\n",
    "import seaborn as sns\n",
    "sns.set(style=\"darkgrid\")"
   ]
  },
  {
   "cell_type": "markdown",
   "metadata": {},
   "source": [
    "### Logger"
   ]
  },
  {
   "cell_type": "code",
   "execution_count": 855,
   "metadata": {},
   "outputs": [
    {
     "name": "stderr",
     "output_type": "stream",
     "text": [
      "2018-09-15 12:46:55,216 - INFO - This is a test log message.\n",
      "2018-09-15 12:46:55,216 - INFO - This is a test log message.\n"
     ]
    }
   ],
   "source": [
    "#logging.basicConfig(level=logging.DEBUG, format='%(asctime)s - %(levelname)s - %(message)s')\n",
    "logger = logging.getLogger()\n",
    "logger.setLevel(logging.DEBUG)\n",
    "\n",
    "formatter = logging.Formatter('%(asctime)s - %(levelname)s - %(message)s')\n",
    "\n",
    "#logging.basicConfig\n",
    "fh = logging.FileHandler('logger_lineplot.txt')\n",
    "fh.setLevel(logging.DEBUG)\n",
    "fh.setFormatter(formatter)\n",
    "logger.addHandler(fh)\n",
    "\n",
    "'''\n",
    "#For streaming only\n",
    "ch = logging.StreamHandler()\n",
    "ch.setLevel(logging.DEBUG)\n",
    "ch.setFormatter(formatter)\n",
    "logger.addHandler(ch)\n",
    "'''\n",
    "\n",
    "logger.info('This is a test log message.')"
   ]
  },
  {
   "cell_type": "markdown",
   "metadata": {},
   "source": [
    "## Render graph functions"
   ]
  },
  {
   "cell_type": "code",
   "execution_count": 815,
   "metadata": {},
   "outputs": [],
   "source": [
    "def renderGraph(db, workload):\n",
    "    new_db = setCriteria(db, workload)\n",
    "    graph = setLinePlot(new_db,workload)\n",
    "    exportGraph(graph, workload)\n",
    "\n",
    "def setCriteria(db, workload):\n",
    "    return db[db.workload == workload]\n",
    "\n",
    "def setLinePlot(db, workload):\n",
    "    dbgraph = sns.lineplot(x=db.record_nbr, \n",
    "                          y=db.value, \n",
    "                          hue=db.database,\n",
    "                          style=db.database,\n",
    "                          sort=False,\n",
    "                          legend='full',\n",
    "                          markers=True,\n",
    "                          dashes=True)\n",
    "    handles, labels = dbgraph.get_legend_handles_labels()\n",
    "    dbgraph.legend(handles=handles[1:], \n",
    "                   labels=labels[1:])\n",
    "    dbgraph.set(xlabel='Number of Records', \n",
    "                ylabel=\"Time (seconds)\")\n",
    "    dbgraph.set_title(workload.upper())\n",
    "    dbgraph\n",
    "    \n",
    "    return dbgraph\n",
    "\n",
    "def setFileName(workload):\n",
    "    name = workload.replace(\" \", \"\")\n",
    "    filename = \"\".join((name,'.png'))\n",
    "    return filename\n",
    "\n",
    "def exportGraph(graph, workload):\n",
    "    name = setFileName(workload)\n",
    "    fig = graph.get_figure()\n",
    "    fig.savefig(name)\n",
    "    fig.show\n",
    "    return\n"
   ]
  },
  {
   "cell_type": "code",
   "execution_count": 894,
   "metadata": {},
   "outputs": [],
   "source": [
    "class LinePlot():\n",
    "    \n",
    "    def __init__(self, db, workload):\n",
    "        self.db = db\n",
    "        self.workload = workload\n",
    "\n",
    "    def renderGraph(self):\n",
    "        new_db = self.setCriteria(self.db, self.workload)\n",
    "        graph = self.setLinePlot(new_db, self.workload)\n",
    "        self.exportGraph(graph, self.workload)\n",
    "        return\n",
    "    \n",
    "    @staticmethod\n",
    "    def setCriteria(db, workload):\n",
    "        return db[db.workload == workload]\n",
    "    \n",
    "    @staticmethod\n",
    "    def setLinePlot(db, workload):\n",
    "        dbgraph = sns.lineplot(x=db.record_nbr, \n",
    "                              y=db.value, \n",
    "                              hue=db.database,\n",
    "                              style=db.database,\n",
    "                              sort=False,\n",
    "                              legend='full',\n",
    "                              markers=True,\n",
    "                              dashes=True)\n",
    "        handles, labels = dbgraph.get_legend_handles_labels()\n",
    "        dbgraph.legend(handles=handles[1:], \n",
    "                       labels=labels[1:])\n",
    "        dbgraph.set(xlabel='Number of Records', \n",
    "                    ylabel=\"Time (seconds)\")\n",
    "        dbgraph.set_title(workload.upper())\n",
    "        dbgraph\n",
    "        return dbgraph\n",
    "\n",
    "    @staticmethod\n",
    "    def setFileName(workload):\n",
    "        extension = \".png\"\n",
    "        name = workload.replace(\" \", \"\")\n",
    "        filename = \"\".join((name,extension))\n",
    "        return filename\n",
    "\n",
    "    @staticmethod\n",
    "    def exportGraph(graph, workload):\n",
    "        name = setFileName(workload)\n",
    "        fig = graph.get_figure()\n",
    "        fig.savefig(name)\n",
    "        fig.show\n",
    "        return"
   ]
  },
  {
   "cell_type": "markdown",
   "metadata": {},
   "source": [
    "## Iterate thru the output folder and get root path"
   ]
  },
  {
   "cell_type": "code",
   "execution_count": 864,
   "metadata": {},
   "outputs": [],
   "source": [
    "import re\n",
    "\n",
    "from os import path\n",
    "from os import walk\n",
    "\n",
    "class FileIterator:\n",
    "    \n",
    "    def __init__(self):\n",
    "        self.path_root = 'output'\n",
    "\n",
    "    def iterate_filenames(self):\n",
    "        logger.debug('--iterate_filenames')\n",
    "        \n",
    "        databases = self.__iterate_database(self.path_root)\n",
    "        files = self.__iterate_file(databases)\n",
    "        return files\n",
    "\n",
    "    def __iterate_database(self, root_dir):\n",
    "        logger.debug('--iterate_database')\n",
    "        path_dbs = []\n",
    "        databases = ['redis','cassandra-cql']\n",
    "\n",
    "        for database in databases:\n",
    "            path_dbs.append(root_dir + '/' + database)\n",
    "        return path_dbs\n",
    "\n",
    "    def __iterate_file(self, path_dbs):\n",
    "        logger.debug('--iterate_file')\n",
    "        path_db_workload_files = []\n",
    "        \n",
    "        for path_db in path_dbs:\n",
    "            for root, dirs, files in walk(path_db):  \n",
    "                for filename in files:\n",
    "                    if \".ipynb_checkpoints\" in dirs:\n",
    "                        pass\n",
    "                    else: \n",
    "                        if \".swp\" not in filename and \".txt~\" not in filename:\n",
    "                            path_db_workload_files.append(root + '/' + filename)\n",
    "                            #logger.debug(root + '/' + filename)\n",
    "        return path_db_workload_files"
   ]
  },
  {
   "cell_type": "markdown",
   "metadata": {},
   "source": [
    "## Set dataframe values"
   ]
  },
  {
   "cell_type": "code",
   "execution_count": 861,
   "metadata": {},
   "outputs": [],
   "source": [
    "class BuildDataFrame():\n",
    "    \n",
    "    def __init__(self, output, filename_path):\n",
    "        self.output = output\n",
    "        self.filename_path = filename_path\n",
    "        self.file = filename_path.split(sep='/')\n",
    "        self.filename = filename_path.split(sep='/')[len(filename_path.split(sep='/'))-1]\n",
    "        \n",
    "    def set_data_row(self):\n",
    "        \n",
    "        output_data = {}\n",
    "        output_data['run'] = self.__set_run(self.filename)\n",
    "        output_data['database'] = self.__set_database(self.filename_path)\n",
    "        output_data['workload'] = self.__set_workload(self.filename)\n",
    "        output_data['record_nbr'] = self.__set_record_nbr(self.filename)\n",
    "        output_data['type'] = self.__set_type(self.output)\n",
    "        output_data['label'] = self.__set_label(self.output)\n",
    "        output_data['value'] = self.__set_value(self.output)\n",
    "\n",
    "        return output_data\n",
    "\n",
    "    def __set_runs(self,file):\n",
    "        filename = (file[len(file)-1])\n",
    "        col_run = filename.split(sep='.')[1]\n",
    "        return col_run\n",
    "    \n",
    "    def __set_run(self,filename):\n",
    "        col_run = filename.split(sep='.')[1]\n",
    "        return col_run\n",
    "\n",
    "    def __set_database(self, filename_path):\n",
    "        database_name = ''\n",
    "        col_database = filename_path.split(sep='/')[1]\n",
    "\n",
    "        if(col_database == 'cassandra-cql'):\n",
    "            database_name = 'Cassandra'\n",
    "        else:\n",
    "            database_name = col_database.title()\n",
    "\n",
    "        return database_name\n",
    "\n",
    "    def __set_workload(self, filename):\n",
    "        col_workload = filename.split(sep='.')[2]\n",
    "\n",
    "        w_type = col_workload[len(col_workload)-1]\n",
    "        w_base = col_workload[:-1]\n",
    "\n",
    "        workload_name = w_base + ' ' + w_type\n",
    "\n",
    "        return workload_name\n",
    "    \n",
    "    def __set_record_nbr(self, filename):\n",
    "        record_nbr = ''\n",
    "        col_record = filename.split(sep='.')[0]\n",
    "\n",
    "        if(col_record == '1k'):\n",
    "            record_nbr = 1000\n",
    "        elif(col_record == '10k'):\n",
    "            record_nbr = 10000\n",
    "        elif(col_record == '100k'):\n",
    "            record_nbr = 100000\n",
    "        elif(col_record == '1000k'):\n",
    "            record_nbr = 1000000\n",
    "        else:\n",
    "            record_nbr = 100\n",
    "\n",
    "        return record_nbr\n",
    "    \n",
    "    def __set_type(self, output):\n",
    "        task_type = output.loc[0][0]\n",
    "        return task_type[1:-1]\n",
    "    \n",
    "    \n",
    "    def __set_label(self, output):\n",
    "        task_label = output.loc[0][1].lstrip()\n",
    "        return task_label\n",
    "\n",
    "    def __set_value(self, output):\n",
    "        seconds =  float(output.loc[0][2]) / 1000\n",
    "        return seconds"
   ]
  },
  {
   "cell_type": "markdown",
   "metadata": {},
   "source": [
    "### Read from csv files"
   ]
  },
  {
   "cell_type": "code",
   "execution_count": 880,
   "metadata": {},
   "outputs": [],
   "source": [
    "class CSVReader():\n",
    "    \n",
    "    def __init__(self, filename_paths):\n",
    "        self.filename_paths = filename_paths\n",
    "        \n",
    "    def get_data(self):\n",
    "        data = []\n",
    "        for filename_path in self.filename_paths:\n",
    "\n",
    "            file = filename_path.split(sep='/')\n",
    "            filename = (file[len(file)-1])\n",
    "            database = file[1]\n",
    "\n",
    "            if(database == 'mongodb'):\n",
    "                csv_output = pd.read_csv(filename_path, skiprows=1, header=None)\n",
    "            else:\n",
    "                csv_output = pd.read_csv(filename_path, header=None)\n",
    "\n",
    "            #TODO refractor \n",
    "            df_output = BuildDataFrame(csv_output, filename_path)\n",
    "            data.append(df_output.set_data_row())\n",
    "\n",
    "        return data"
   ]
  },
  {
   "cell_type": "markdown",
   "metadata": {},
   "source": [
    "## __Main__"
   ]
  },
  {
   "cell_type": "code",
   "execution_count": 901,
   "metadata": {},
   "outputs": [
    {
     "name": "stderr",
     "output_type": "stream",
     "text": [
      "2018-09-15 13:09:49,460 - DEBUG - --iterate_filenames\n",
      "2018-09-15 13:09:49,460 - DEBUG - --iterate_filenames\n",
      "2018-09-15 13:09:49,466 - DEBUG - --iterate_database\n",
      "2018-09-15 13:09:49,466 - DEBUG - --iterate_database\n",
      "2018-09-15 13:09:49,470 - DEBUG - --iterate_file\n",
      "2018-09-15 13:09:49,470 - DEBUG - --iterate_file\n"
     ]
    }
   ],
   "source": [
    "files = FileIterator()\n",
    "file_paths = files.iterate_filenames()\n",
    "\n",
    "csv_files = CSVReader(file_paths)\n",
    "df_data = csv_files.get_data()"
   ]
  },
  {
   "cell_type": "markdown",
   "metadata": {},
   "source": [
    "### Convert source file to dataFrame"
   ]
  },
  {
   "cell_type": "code",
   "execution_count": 874,
   "metadata": {},
   "outputs": [
    {
     "data": {
      "text/html": [
       "<div>\n",
       "<style scoped>\n",
       "    .dataframe tbody tr th:only-of-type {\n",
       "        vertical-align: middle;\n",
       "    }\n",
       "\n",
       "    .dataframe tbody tr th {\n",
       "        vertical-align: top;\n",
       "    }\n",
       "\n",
       "    .dataframe thead th {\n",
       "        text-align: right;\n",
       "    }\n",
       "</style>\n",
       "<table border=\"1\" class=\"dataframe\">\n",
       "  <thead>\n",
       "    <tr style=\"text-align: right;\">\n",
       "      <th></th>\n",
       "      <th>run</th>\n",
       "      <th>database</th>\n",
       "      <th>workload</th>\n",
       "      <th>record_nbr</th>\n",
       "      <th>type</th>\n",
       "      <th>label</th>\n",
       "      <th>value</th>\n",
       "    </tr>\n",
       "  </thead>\n",
       "  <tbody>\n",
       "    <tr>\n",
       "      <th>0</th>\n",
       "      <td>load-1</td>\n",
       "      <td>Redis</td>\n",
       "      <td>workload a</td>\n",
       "      <td>100000</td>\n",
       "      <td>OVERALL</td>\n",
       "      <td>RunTime(ms)</td>\n",
       "      <td>12.682</td>\n",
       "    </tr>\n",
       "    <tr>\n",
       "      <th>1</th>\n",
       "      <td>load-1</td>\n",
       "      <td>Redis</td>\n",
       "      <td>workload a</td>\n",
       "      <td>10000</td>\n",
       "      <td>OVERALL</td>\n",
       "      <td>RunTime(ms)</td>\n",
       "      <td>1.691</td>\n",
       "    </tr>\n",
       "    <tr>\n",
       "      <th>2</th>\n",
       "      <td>load-1</td>\n",
       "      <td>Redis</td>\n",
       "      <td>workload a</td>\n",
       "      <td>1000</td>\n",
       "      <td>OVERALL</td>\n",
       "      <td>RunTime(ms)</td>\n",
       "      <td>1.061</td>\n",
       "    </tr>\n",
       "    <tr>\n",
       "      <th>3</th>\n",
       "      <td>run-1</td>\n",
       "      <td>Redis</td>\n",
       "      <td>workload a</td>\n",
       "      <td>100000</td>\n",
       "      <td>OVERALL</td>\n",
       "      <td>RunTime(ms)</td>\n",
       "      <td>6.523</td>\n",
       "    </tr>\n",
       "    <tr>\n",
       "      <th>4</th>\n",
       "      <td>run-1</td>\n",
       "      <td>Redis</td>\n",
       "      <td>workload a</td>\n",
       "      <td>10000</td>\n",
       "      <td>OVERALL</td>\n",
       "      <td>RunTime(ms)</td>\n",
       "      <td>1.045</td>\n",
       "    </tr>\n",
       "  </tbody>\n",
       "</table>\n",
       "</div>"
      ],
      "text/plain": [
       "      run database    workload  record_nbr     type        label   value\n",
       "0  load-1    Redis  workload a      100000  OVERALL  RunTime(ms)  12.682\n",
       "1  load-1    Redis  workload a       10000  OVERALL  RunTime(ms)   1.691\n",
       "2  load-1    Redis  workload a        1000  OVERALL  RunTime(ms)   1.061\n",
       "3   run-1    Redis  workload a      100000  OVERALL  RunTime(ms)   6.523\n",
       "4   run-1    Redis  workload a       10000  OVERALL  RunTime(ms)   1.045"
      ]
     },
     "execution_count": 874,
     "metadata": {},
     "output_type": "execute_result"
    }
   ],
   "source": [
    "db3 = pd.DataFrame(df_data, columns=['run','database','workload','record_nbr','type','label','value'])\n",
    "db3.head()"
   ]
  },
  {
   "cell_type": "markdown",
   "metadata": {},
   "source": [
    "### Export to CSV"
   ]
  },
  {
   "cell_type": "code",
   "execution_count": 565,
   "metadata": {},
   "outputs": [],
   "source": [
    "db3.to_csv('output_df.csv',sep=',')"
   ]
  },
  {
   "cell_type": "markdown",
   "metadata": {},
   "source": [
    "### Render Graphs"
   ]
  },
  {
   "cell_type": "code",
   "execution_count": 898,
   "metadata": {},
   "outputs": [
    {
     "data": {
      "image/png": "[encoded data removed]",
      "text/plain": [
       "<Figure size 432x288 with 1 Axes>"
      ]
     },
     "metadata": {},
     "output_type": "display_data"
    }
   ],
   "source": [
    "workload = 'workload b'\n",
    "graph = LinePlot(db3,workload)\n",
    "graph.renderGraph()"
   ]
  },
  {
   "cell_type": "code",
   "execution_count": 899,
   "metadata": {},
   "outputs": [
    {
     "data": {
      "image/png": "[encoded data removed]",
      "text/plain": [
       "<Figure size 432x288 with 1 Axes>"
      ]
     },
     "metadata": {},
     "output_type": "display_data"
    }
   ],
   "source": [
    "workload = 'workload c'\n",
    "graph = LinePlot(db3,workload)\n",
    "graph.renderGraph()"
   ]
  }
 ],
 "metadata": {
  "kernelspec": {
   "display_name": "Python 3",
   "language": "python",
   "name": "python3"
  },
  "language_info": {
   "codemirror_mode": {
    "name": "ipython",
    "version": 3
   },
   "file_extension": ".py",
   "mimetype": "text/x-python",
   "name": "python",
   "nbconvert_exporter": "python",
   "pygments_lexer": "ipython3",
   "version": "3.6.2"
  }
 },
 "nbformat": 4,
 "nbformat_minor": 2
}
